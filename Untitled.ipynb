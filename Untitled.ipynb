{
 "cells": [
  {
   "cell_type": "code",
   "execution_count": 11,
   "metadata": {},
   "outputs": [],
   "source": [
    "import numpy as np\n",
    "import matplotlib.pyplot as plt\n",
    "\n",
    "from tensorflow.keras.datasets import mnist\n",
    "from keras.utils import np_utils\n",
    "from tensorflow.keras.models import Sequential\n",
    "from tensorflow.keras.layers import Dense, Activation\n",
    "from tensorflow.keras.optimizers import SGD\n",
    "\n",
    "from ipywidgets import interact_manual"
   ]
  },
  {
   "cell_type": "code",
   "execution_count": 12,
   "metadata": {},
   "outputs": [],
   "source": [
    "(x_train, y_train), (x_test, y_test) = mnist.load_data()"
   ]
  },
  {
   "cell_type": "code",
   "execution_count": 13,
   "metadata": {},
   "outputs": [],
   "source": [
    "def show_xy(n=0):\n",
    "    ax = plt.gca()\n",
    "    X = x_train[n]\n",
    "    plt.xticks([], [])\n",
    "    plt.yticks([], [])\n",
    "    plt.imshow(X, cmap = 'Greys')\n",
    "    print(f'本資料 y 給定的答案為: {y_train[n]}')"
   ]
  },
  {
   "cell_type": "code",
   "execution_count": 14,
   "metadata": {},
   "outputs": [
    {
     "data": {
      "application/vnd.jupyter.widget-view+json": {
       "model_id": "81e48b5e9a8e409aa5c7846b3f0870c4",
       "version_major": 2,
       "version_minor": 0
      },
      "text/plain": [
       "interactive(children=(IntSlider(value=0, description='n', max=59999), Button(description='Run Interact', style…"
      ]
     },
     "metadata": {},
     "output_type": "display_data"
    }
   ],
   "source": [
    "interact_manual(show_xy, n=(0,59999));"
   ]
  },
  {
   "cell_type": "code",
   "execution_count": 15,
   "metadata": {},
   "outputs": [],
   "source": [
    "x_train_vector = x_train.reshape(60000, 784)/255\n",
    "x_test_vector = x_test.reshape(10000, 784)/255\n",
    "\n",
    "y_train = np_utils.to_categorical(y_train, 10)\n",
    "y_test = np_utils.to_categorical(y_test, 10)"
   ]
  },
  {
   "cell_type": "code",
   "execution_count": 17,
   "metadata": {},
   "outputs": [
    {
     "name": "stdout",
     "output_type": "stream",
     "text": [
      "Epoch 1/100\n",
      "60000/60000 [==============================] - 6s 104us/sample - loss: 0.0880 - acc: 0.2074\n",
      "Epoch 2/100\n",
      "60000/60000 [==============================] - 5s 78us/sample - loss: 0.0468 - acc: 0.6840\n",
      "Epoch 3/100\n",
      "60000/60000 [==============================] - 5s 78us/sample - loss: 0.0204 - acc: 0.8681\n",
      "Epoch 4/100\n",
      "60000/60000 [==============================] - 4s 73us/sample - loss: 0.0167 - acc: 0.8921\n",
      "Epoch 5/100\n",
      "60000/60000 [==============================] - 4s 71us/sample - loss: 0.0152 - acc: 0.9013\n",
      "Epoch 6/100\n",
      "60000/60000 [==============================] - 4s 70us/sample - loss: 0.0143 - acc: 0.9075\n",
      "Epoch 7/100\n",
      "60000/60000 [==============================] - 4s 71us/sample - loss: 0.0137 - acc: 0.9113\n",
      "Epoch 8/100\n",
      "60000/60000 [==============================] - 4s 70us/sample - loss: 0.0131 - acc: 0.9155\n",
      "Epoch 9/100\n",
      "60000/60000 [==============================] - 4s 70us/sample - loss: 0.0126 - acc: 0.9192\n",
      "Epoch 10/100\n",
      "60000/60000 [==============================] - 4s 70us/sample - loss: 0.0123 - acc: 0.9208\n",
      "Epoch 11/100\n",
      "60000/60000 [==============================] - 5s 75us/sample - loss: 0.0119 - acc: 0.9240\n",
      "Epoch 12/100\n",
      "60000/60000 [==============================] - 4s 74us/sample - loss: 0.0115 - acc: 0.9262\n",
      "Epoch 13/100\n",
      "60000/60000 [==============================] - 4s 74us/sample - loss: 0.0112 - acc: 0.9289\n",
      "Epoch 14/100\n",
      "60000/60000 [==============================] - 4s 73us/sample - loss: 0.0110 - acc: 0.9304\n",
      "Epoch 15/100\n",
      "60000/60000 [==============================] - 4s 73us/sample - loss: 0.0107 - acc: 0.9315\n",
      "Epoch 16/100\n",
      "60000/60000 [==============================] - 4s 72us/sample - loss: 0.0105 - acc: 0.9334\n",
      "Epoch 17/100\n",
      "60000/60000 [==============================] - 4s 72us/sample - loss: 0.0103 - acc: 0.9347\n",
      "Epoch 18/100\n",
      "60000/60000 [==============================] - 4s 71us/sample - loss: 0.0101 - acc: 0.9356\n",
      "Epoch 19/100\n",
      "60000/60000 [==============================] - 4s 72us/sample - loss: 0.0099 - acc: 0.9367\n",
      "Epoch 20/100\n",
      "60000/60000 [==============================] - 4s 73us/sample - loss: 0.0097 - acc: 0.9385\n",
      "Epoch 21/100\n",
      "60000/60000 [==============================] - 4s 73us/sample - loss: 0.0096 - acc: 0.9391\n",
      "Epoch 22/100\n",
      "60000/60000 [==============================] - 4s 72us/sample - loss: 0.0094 - acc: 0.9403\n",
      "Epoch 23/100\n",
      "60000/60000 [==============================] - 4s 72us/sample - loss: 0.0092 - acc: 0.9411\n",
      "Epoch 24/100\n",
      "60000/60000 [==============================] - 4s 72us/sample - loss: 0.0091 - acc: 0.9421\n",
      "Epoch 25/100\n",
      "60000/60000 [==============================] - 4s 72us/sample - loss: 0.0089 - acc: 0.9445\n",
      "Epoch 26/100\n",
      "60000/60000 [==============================] - 4s 72us/sample - loss: 0.0088 - acc: 0.9452\n",
      "Epoch 27/100\n",
      "60000/60000 [==============================] - 4s 72us/sample - loss: 0.0086 - acc: 0.9455\n",
      "Epoch 28/100\n",
      "60000/60000 [==============================] - 4s 71us/sample - loss: 0.0084 - acc: 0.9467\n",
      "Epoch 29/100\n",
      "60000/60000 [==============================] - 4s 72us/sample - loss: 0.0083 - acc: 0.9475\n",
      "Epoch 30/100\n",
      "60000/60000 [==============================] - 4s 71us/sample - loss: 0.0082 - acc: 0.9488\n",
      "Epoch 31/100\n",
      "60000/60000 [==============================] - 4s 71us/sample - loss: 0.0080 - acc: 0.9491\n",
      "Epoch 32/100\n",
      "60000/60000 [==============================] - 4s 71us/sample - loss: 0.0079 - acc: 0.9501\n",
      "Epoch 33/100\n",
      "60000/60000 [==============================] - 4s 71us/sample - loss: 0.0078 - acc: 0.9510\n",
      "Epoch 34/100\n",
      "60000/60000 [==============================] - 4s 71us/sample - loss: 0.0077 - acc: 0.9519\n",
      "Epoch 35/100\n",
      "60000/60000 [==============================] - 4s 73us/sample - loss: 0.0076 - acc: 0.9524\n",
      "Epoch 36/100\n",
      "60000/60000 [==============================] - 4s 68us/sample - loss: 0.0075 - acc: 0.9536\n",
      "Epoch 37/100\n",
      "60000/60000 [==============================] - 4s 70us/sample - loss: 0.0074 - acc: 0.9535\n",
      "Epoch 38/100\n",
      "60000/60000 [==============================] - 4s 74us/sample - loss: 0.0073 - acc: 0.9543\n",
      "Epoch 39/100\n",
      "60000/60000 [==============================] - 5s 78us/sample - loss: 0.0072 - acc: 0.9555\n",
      "Epoch 40/100\n",
      "60000/60000 [==============================] - 4s 75us/sample - loss: 0.0071 - acc: 0.9556\n",
      "Epoch 41/100\n",
      "60000/60000 [==============================] - 4s 73us/sample - loss: 0.0070 - acc: 0.9565\n",
      "Epoch 42/100\n",
      "60000/60000 [==============================] - 5s 76us/sample - loss: 0.0069 - acc: 0.9576\n",
      "Epoch 43/100\n",
      "60000/60000 [==============================] - 4s 73us/sample - loss: 0.0069 - acc: 0.9571\n",
      "Epoch 44/100\n",
      "60000/60000 [==============================] - 5s 81us/sample - loss: 0.0068 - acc: 0.9579\n",
      "Epoch 45/100\n",
      "60000/60000 [==============================] - 5s 77us/sample - loss: 0.0067 - acc: 0.9580\n",
      "Epoch 46/100\n",
      "60000/60000 [==============================] - 5s 79us/sample - loss: 0.0067 - acc: 0.9588\n",
      "Epoch 47/100\n",
      "60000/60000 [==============================] - 5s 79us/sample - loss: 0.0066 - acc: 0.9593\n",
      "Epoch 48/100\n",
      "60000/60000 [==============================] - 5s 80us/sample - loss: 0.0066 - acc: 0.9595\n",
      "Epoch 49/100\n",
      "60000/60000 [==============================] - 4s 72us/sample - loss: 0.0065 - acc: 0.9602\n",
      "Epoch 50/100\n",
      "60000/60000 [==============================] - 5s 80us/sample - loss: 0.0064 - acc: 0.9600\n",
      "Epoch 51/100\n",
      "60000/60000 [==============================] - 5s 76us/sample - loss: 0.0063 - acc: 0.9611\n",
      "Epoch 52/100\n",
      "60000/60000 [==============================] - 4s 71us/sample - loss: 0.0063 - acc: 0.9616\n",
      "Epoch 53/100\n",
      "60000/60000 [==============================] - 4s 60us/sample - loss: 0.0062 - acc: 0.9618\n",
      "Epoch 54/100\n",
      "60000/60000 [==============================] - 3s 53us/sample - loss: 0.0062 - acc: 0.9626\n",
      "Epoch 55/100\n",
      "60000/60000 [==============================] - 3s 57us/sample - loss: 0.0061 - acc: 0.9631\n",
      "Epoch 56/100\n",
      "60000/60000 [==============================] - 5s 77us/sample - loss: 0.0061 - acc: 0.9627\n",
      "Epoch 57/100\n",
      "60000/60000 [==============================] - 5s 78us/sample - loss: 0.0060 - acc: 0.9632\n",
      "Epoch 58/100\n",
      "60000/60000 [==============================] - 5s 77us/sample - loss: 0.0060 - acc: 0.9639\n",
      "Epoch 59/100\n",
      "60000/60000 [==============================] - 5s 79us/sample - loss: 0.0059 - acc: 0.9642\n",
      "Epoch 60/100\n",
      "60000/60000 [==============================] - 5s 78us/sample - loss: 0.0059 - acc: 0.9643\n",
      "Epoch 61/100\n",
      "60000/60000 [==============================] - 5s 77us/sample - loss: 0.0058 - acc: 0.9647\n",
      "Epoch 62/100\n",
      "60000/60000 [==============================] - 5s 77us/sample - loss: 0.0058 - acc: 0.9649\n",
      "Epoch 63/100\n",
      "60000/60000 [==============================] - 5s 78us/sample - loss: 0.0057 - acc: 0.96511s - l\n",
      "Epoch 64/100\n",
      "60000/60000 [==============================] - 5s 78us/sample - loss: 0.0057 - acc: 0.9656\n",
      "Epoch 65/100\n",
      "60000/60000 [==============================] - 5s 79us/sample - loss: 0.0057 - acc: 0.9660\n",
      "Epoch 66/100\n",
      "60000/60000 [==============================] - 5s 78us/sample - loss: 0.0056 - acc: 0.9661\n",
      "Epoch 67/100\n",
      "60000/60000 [==============================] - 5s 78us/sample - loss: 0.0056 - acc: 0.9662\n",
      "Epoch 68/100\n",
      "60000/60000 [==============================] - 5s 77us/sample - loss: 0.0055 - acc: 0.9670\n",
      "Epoch 69/100\n",
      "60000/60000 [==============================] - 5s 77us/sample - loss: 0.0055 - acc: 0.9673\n",
      "Epoch 70/100\n",
      "60000/60000 [==============================] - 5s 78us/sample - loss: 0.0055 - acc: 0.9669\n",
      "Epoch 71/100\n",
      "60000/60000 [==============================] - 5s 78us/sample - loss: 0.0054 - acc: 0.9675\n",
      "Epoch 72/100\n",
      "60000/60000 [==============================] - 5s 78us/sample - loss: 0.0054 - acc: 0.9682\n",
      "Epoch 73/100\n",
      "60000/60000 [==============================] - 5s 77us/sample - loss: 0.0054 - acc: 0.9679\n",
      "Epoch 74/100\n",
      "60000/60000 [==============================] - 5s 77us/sample - loss: 0.0053 - acc: 0.9683\n",
      "Epoch 75/100\n",
      "60000/60000 [==============================] - 5s 78us/sample - loss: 0.0053 - acc: 0.9681\n",
      "Epoch 76/100\n",
      "60000/60000 [==============================] - 5s 76us/sample - loss: 0.0053 - acc: 0.9685\n",
      "Epoch 77/100\n",
      "60000/60000 [==============================] - 5s 77us/sample - loss: 0.0052 - acc: 0.9691\n",
      "Epoch 78/100\n",
      "60000/60000 [==============================] - 5s 77us/sample - loss: 0.0052 - acc: 0.9689\n",
      "Epoch 79/100\n"
     ]
    },
    {
     "name": "stdout",
     "output_type": "stream",
     "text": [
      "60000/60000 [==============================] - 5s 78us/sample - loss: 0.0051 - acc: 0.9695\n",
      "Epoch 80/100\n",
      "60000/60000 [==============================] - 5s 78us/sample - loss: 0.0051 - acc: 0.9695\n",
      "Epoch 81/100\n",
      "60000/60000 [==============================] - 3s 58us/sample - loss: 0.0051 - acc: 0.9699\n",
      "Epoch 82/100\n",
      "60000/60000 [==============================] - 3s 51us/sample - loss: 0.0051 - acc: 0.9698\n",
      "Epoch 83/100\n",
      "60000/60000 [==============================] - 3s 51us/sample - loss: 0.0050 - acc: 0.9702\n",
      "Epoch 84/100\n",
      "60000/60000 [==============================] - 5s 75us/sample - loss: 0.0050 - acc: 0.9703\n",
      "Epoch 85/100\n",
      "60000/60000 [==============================] - 5s 78us/sample - loss: 0.0050 - acc: 0.9703\n",
      "Epoch 86/100\n",
      "60000/60000 [==============================] - 5s 80us/sample - loss: 0.0050 - acc: 0.9706\n",
      "Epoch 87/100\n",
      "60000/60000 [==============================] - 5s 80us/sample - loss: 0.0049 - acc: 0.9711\n",
      "Epoch 88/100\n",
      "60000/60000 [==============================] - 5s 80us/sample - loss: 0.0049 - acc: 0.9707\n",
      "Epoch 89/100\n",
      "60000/60000 [==============================] - 5s 80us/sample - loss: 0.0049 - acc: 0.9712\n",
      "Epoch 90/100\n",
      "60000/60000 [==============================] - 5s 80us/sample - loss: 0.0048 - acc: 0.9717\n",
      "Epoch 91/100\n",
      "60000/60000 [==============================] - 5s 79us/sample - loss: 0.0048 - acc: 0.9718\n",
      "Epoch 92/100\n",
      "60000/60000 [==============================] - 5s 79us/sample - loss: 0.0048 - acc: 0.9717\n",
      "Epoch 93/100\n",
      "60000/60000 [==============================] - 5s 80us/sample - loss: 0.0048 - acc: 0.9725\n",
      "Epoch 94/100\n",
      "60000/60000 [==============================] - 5s 79us/sample - loss: 0.0048 - acc: 0.9722\n",
      "Epoch 95/100\n",
      "60000/60000 [==============================] - 5s 80us/sample - loss: 0.0047 - acc: 0.9727\n",
      "Epoch 96/100\n",
      "60000/60000 [==============================] - 5s 78us/sample - loss: 0.0047 - acc: 0.9721\n",
      "Epoch 97/100\n",
      "60000/60000 [==============================] - 5s 77us/sample - loss: 0.0047 - acc: 0.9725\n",
      "Epoch 98/100\n",
      "60000/60000 [==============================] - 4s 74us/sample - loss: 0.0047 - acc: 0.9729\n",
      "Epoch 99/100\n",
      "60000/60000 [==============================] - 5s 77us/sample - loss: 0.0046 - acc: 0.9730\n",
      "Epoch 100/100\n",
      "60000/60000 [==============================] - 5s 79us/sample - loss: 0.0046 - acc: 0.9732\n"
     ]
    },
    {
     "data": {
      "text/plain": [
       "<tensorflow.python.keras.callbacks.History at 0x2a9f24d6e80>"
      ]
     },
     "execution_count": 17,
     "metadata": {},
     "output_type": "execute_result"
    }
   ],
   "source": [
    "model = Sequential()\n",
    "model.add(Dense(10, input_dim = 784, activation = \"relu\"))\n",
    "model.add(Dense(100, activation='relu'))\n",
    "model.add(Dense(200, activation='relu'))\n",
    "model.add(Dense(10, activation='softmax'))\n",
    "\n",
    "model.compile(loss='mse', optimizer=SGD(lr=0.1), metrics=['accuracy'])\n",
    "model.fit(x_train_vector, y_train, batch_size=32, epochs=100)"
   ]
  },
  {
   "cell_type": "code",
   "execution_count": 18,
   "metadata": {},
   "outputs": [
    {
     "data": {
      "text/plain": [
       "array([7, 2, 1, ..., 4, 5, 6], dtype=int64)"
      ]
     },
     "execution_count": 18,
     "metadata": {},
     "output_type": "execute_result"
    }
   ],
   "source": [
    "model.predict_classes(x_test_vector)"
   ]
  },
  {
   "cell_type": "code",
   "execution_count": 19,
   "metadata": {},
   "outputs": [
    {
     "name": "stdout",
     "output_type": "stream",
     "text": [
      "10000/10000 [==============================] - 0s 48us/sample - loss: 0.0069 - acc: 0.9563\n"
     ]
    }
   ],
   "source": [
    "score = model.evaluate(x_test_vector, y_test)"
   ]
  },
  {
   "cell_type": "code",
   "execution_count": 21,
   "metadata": {},
   "outputs": [
    {
     "name": "stdout",
     "output_type": "stream",
     "text": [
      "loss: 0.006937659395551624\n",
      "正確率: 0.9563\n"
     ]
    }
   ],
   "source": [
    "print(\"loss:\", score[0])\n",
    "print(\"正確率:\", score[1])"
   ]
  }
 ],
 "metadata": {
  "kernelspec": {
   "display_name": "Python 3",
   "language": "python",
   "name": "python3"
  },
  "language_info": {
   "codemirror_mode": {
    "name": "ipython",
    "version": 3
   },
   "file_extension": ".py",
   "mimetype": "text/x-python",
   "name": "python",
   "nbconvert_exporter": "python",
   "pygments_lexer": "ipython3",
   "version": "3.7.2"
  }
 },
 "nbformat": 4,
 "nbformat_minor": 2
}
