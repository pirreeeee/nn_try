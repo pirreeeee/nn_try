{
 "cells": [
  {
   "cell_type": "code",
   "execution_count": 1,
   "metadata": {},
   "outputs": [
    {
     "name": "stderr",
     "output_type": "stream",
     "text": [
      "Using TensorFlow backend.\n"
     ]
    }
   ],
   "source": [
    "\n",
    "# 標準數據分析、畫圖套件\n",
    "import numpy as np\n",
    "import matplotlib.pyplot as plt\n",
    "\n",
    "# 神經網路方面\n",
    "from tensorflow.keras.datasets import mnist\n",
    "from keras.utils import np_utils\n",
    "from tensorflow.keras.models import Sequential\n",
    "from tensorflow.keras.layers import Dense, Activation\n",
    "from tensorflow.keras.optimizers import SGD\n",
    "\n",
    "\n",
    "# 互動設計用\n",
    "from ipywidgets import interact_manual"
   ]
  },
  {
   "cell_type": "code",
   "execution_count": 2,
   "metadata": {},
   "outputs": [],
   "source": [
    "(x_train, y_train), (x_test, y_test) = mnist.load_data()"
   ]
  },
  {
   "cell_type": "code",
   "execution_count": 3,
   "metadata": {},
   "outputs": [
    {
     "name": "stdout",
     "output_type": "stream",
     "text": [
      "訓練資料總筆數為 60000 筆資料\n",
      "測試資料總筆數為 10000 筆資料\n"
     ]
    }
   ],
   "source": [
    "print(f'訓練資料總筆數為 {len(x_train)} 筆資料')\n",
    "print(f'測試資料總筆數為 {len(x_test)} 筆資料')"
   ]
  },
  {
   "cell_type": "code",
   "execution_count": 4,
   "metadata": {},
   "outputs": [],
   "source": [
    "def show_xy(n=0):\n",
    "    ax = plt.gca()\n",
    "    X = x_train[n]\n",
    "    plt.xticks([], [])\n",
    "    plt.yticks([], [])\n",
    "    plt.imshow(X, cmap = 'Greys')\n",
    "    print(f'本資料 y 給定的答案為: {y_train[n]}')"
   ]
  },
  {
   "cell_type": "code",
   "execution_count": 5,
   "metadata": {},
   "outputs": [
    {
     "data": {
      "application/vnd.jupyter.widget-view+json": {
       "model_id": "49fdfa77f3044b8da8e643015e7d8ef4",
       "version_major": 2,
       "version_minor": 0
      },
      "text/plain": [
       "interactive(children=(IntSlider(value=0, description='n', max=59999), Button(description='Run Interact', style…"
      ]
     },
     "metadata": {},
     "output_type": "display_data"
    }
   ],
   "source": [
    "interact_manual(show_xy, n=(0,59999));"
   ]
  },
  {
   "cell_type": "code",
   "execution_count": 6,
   "metadata": {},
   "outputs": [],
   "source": [
    "x_train_vector = x_train.reshape(60000, 784)/255\n",
    "x_test_vector = x_test.reshape(10000, 784)/255\n",
    "\n",
    "y_train = np_utils.to_categorical(y_train, 10)\n",
    "y_test = np_utils.to_categorical(y_test, 10)"
   ]
  },
  {
   "cell_type": "code",
   "execution_count": 7,
   "metadata": {},
   "outputs": [
    {
     "name": "stderr",
     "output_type": "stream",
     "text": [
      "WARNING: Logging before flag parsing goes to stderr.\n",
      "W1009 14:29:51.948111 14260 deprecation.py:506] From c:\\users\\pirre\\appdata\\local\\programs\\python\\python37\\lib\\site-packages\\tensorflow\\python\\ops\\init_ops.py:1251: calling VarianceScaling.__init__ (from tensorflow.python.ops.init_ops) with dtype is deprecated and will be removed in a future version.\n",
      "Instructions for updating:\n",
      "Call initializer instance with the dtype argument instead of passing it to the constructor\n"
     ]
    },
    {
     "name": "stdout",
     "output_type": "stream",
     "text": [
      "Epoch 1/20\n",
      "60000/60000 [==============================] - 2s 36us/sample - loss: 0.0899 - acc: 0.1723\n",
      "Epoch 2/20\n",
      "60000/60000 [==============================] - 2s 33us/sample - loss: 0.0891 - acc: 0.3044\n",
      "Epoch 3/20\n",
      "60000/60000 [==============================] - 2s 32us/sample - loss: 0.0838 - acc: 0.3455\n",
      "Epoch 4/20\n",
      "60000/60000 [==============================] - 2s 33us/sample - loss: 0.0684 - acc: 0.4626\n",
      "Epoch 5/20\n",
      "60000/60000 [==============================] - 2s 32us/sample - loss: 0.0500 - acc: 0.6372\n",
      "Epoch 6/20\n",
      "60000/60000 [==============================] - 2s 36us/sample - loss: 0.0365 - acc: 0.7580\n",
      "Epoch 7/20\n",
      "60000/60000 [==============================] - 2s 35us/sample - loss: 0.0286 - acc: 0.8159\n",
      "Epoch 8/20\n",
      "60000/60000 [==============================] - 2s 33us/sample - loss: 0.0239 - acc: 0.8449\n",
      "Epoch 9/20\n",
      "60000/60000 [==============================] - 2s 33us/sample - loss: 0.0213 - acc: 0.8613\n",
      "Epoch 10/20\n",
      "60000/60000 [==============================] - 2s 33us/sample - loss: 0.0196 - acc: 0.8723\n",
      "Epoch 11/20\n",
      "60000/60000 [==============================] - 2s 33us/sample - loss: 0.0184 - acc: 0.8802\n",
      "Epoch 12/20\n",
      "60000/60000 [==============================] - 2s 33us/sample - loss: 0.0174 - acc: 0.8867\n",
      "Epoch 13/20\n",
      "60000/60000 [==============================] - 2s 33us/sample - loss: 0.0167 - acc: 0.8917\n",
      "Epoch 14/20\n",
      "60000/60000 [==============================] - 2s 34us/sample - loss: 0.0161 - acc: 0.8953\n",
      "Epoch 15/20\n",
      "60000/60000 [==============================] - 2s 34us/sample - loss: 0.0156 - acc: 0.8984\n",
      "Epoch 16/20\n",
      "60000/60000 [==============================] - 2s 34us/sample - loss: 0.0152 - acc: 0.9016\n",
      "Epoch 17/20\n",
      "60000/60000 [==============================] - 2s 31us/sample - loss: 0.0148 - acc: 0.9043\n",
      "Epoch 18/20\n",
      "60000/60000 [==============================] - 2s 33us/sample - loss: 0.0145 - acc: 0.9060\n",
      "Epoch 19/20\n",
      "60000/60000 [==============================] - 2s 32us/sample - loss: 0.0142 - acc: 0.9080\n",
      "Epoch 20/20\n",
      "60000/60000 [==============================] - 2s 33us/sample - loss: 0.0139 - acc: 0.9100\n"
     ]
    },
    {
     "data": {
      "text/plain": [
       "<tensorflow.python.keras.callbacks.History at 0x2a9ef311f28>"
      ]
     },
     "execution_count": 7,
     "metadata": {},
     "output_type": "execute_result"
    }
   ],
   "source": [
    "model = Sequential()\n",
    "model.add(Dense(10, input_dim = 784, activation = \"relu\"))\n",
    "model.add(Dense(100, activation='relu'))\n",
    "model.add(Dense(200, activation='relu'))\n",
    "model.add(Dense(10, activation='softmax'))\n",
    "\n",
    "model.compile(loss='mse', optimizer=SGD(lr=0.087), metrics=['accuracy'])\n",
    "model.fit(x_train_vector, y_train, batch_size=100, epochs=20)"
   ]
  },
  {
   "cell_type": "code",
   "execution_count": 9,
   "metadata": {},
   "outputs": [
    {
     "data": {
      "text/plain": [
       "array([7, 2, 1, ..., 4, 5, 6], dtype=int64)"
      ]
     },
     "execution_count": 9,
     "metadata": {},
     "output_type": "execute_result"
    }
   ],
   "source": [
    "model.predict_classes(x_test_vector)"
   ]
  },
  {
   "cell_type": "code",
   "execution_count": 10,
   "metadata": {},
   "outputs": [
    {
     "name": "stdout",
     "output_type": "stream",
     "text": [
      "10000/10000 [==============================] - 0s 44us/sample - loss: 0.0136 - acc: 0.9104\n"
     ]
    },
    {
     "data": {
      "text/plain": [
       "[0.013599066681298427, 0.9104]"
      ]
     },
     "execution_count": 10,
     "metadata": {},
     "output_type": "execute_result"
    }
   ],
   "source": [
    "model.evaluate(x_test_vector, y_test)"
   ]
  }
 ],
 "metadata": {
  "kernelspec": {
   "display_name": "Python 3",
   "language": "python",
   "name": "python3"
  },
  "language_info": {
   "codemirror_mode": {
    "name": "ipython",
    "version": 3
   },
   "file_extension": ".py",
   "mimetype": "text/x-python",
   "name": "python",
   "nbconvert_exporter": "python",
   "pygments_lexer": "ipython3",
   "version": "3.7.2"
  }
 },
 "nbformat": 4,
 "nbformat_minor": 2
}
